{
 "cells": [
  {
   "cell_type": "markdown",
   "id": "bdee8296",
   "metadata": {},
   "source": [
    "### Import the libararies"
   ]
  },
  {
   "cell_type": "code",
   "execution_count": 1,
   "id": "293208da",
   "metadata": {},
   "outputs": [],
   "source": [
    "import numpy as np\n",
    "import matplotlib.pyplot as plt"
   ]
  },
  {
   "cell_type": "code",
   "execution_count": 2,
   "id": "f5379b61",
   "metadata": {},
   "outputs": [],
   "source": [
    "import tensorflow\n",
    "from tensorflow import keras\n",
    "from tensorflow.keras import Sequential\n",
    "from tensorflow.keras.layers import Flatten,Dense"
   ]
  },
  {
   "cell_type": "markdown",
   "id": "a48de9d4",
   "metadata": {},
   "source": [
    "### Load the datasets"
   ]
  },
  {
   "cell_type": "code",
   "execution_count": 3,
   "id": "daa02723",
   "metadata": {},
   "outputs": [],
   "source": [
    "(X_train,y_train),(X_test,y_test) = keras.datasets.mnist.load_data()"
   ]
  },
  {
   "cell_type": "code",
   "execution_count": 4,
   "id": "bdf8188d",
   "metadata": {},
   "outputs": [
    {
     "name": "stdout",
     "output_type": "stream",
     "text": [
      "(60000, 28, 28)\n",
      "(60000,)\n",
      "(10000, 28, 28)\n",
      "(10000,)\n"
     ]
    }
   ],
   "source": [
    "print(X_train.shape)\n",
    "print(y_train.shape)\n",
    "print(X_test.shape)\n",
    "print(y_test.shape)"
   ]
  },
  {
   "cell_type": "code",
   "execution_count": 5,
   "id": "cdd1870a",
   "metadata": {},
   "outputs": [
    {
     "data": {
      "text/plain": [
       "array([[  0,   0,   0,   0,   0,   0,   0,   0,   0,   0,   0,   0,   0,\n",
       "          0,   0,   0,   0,   0,   0,   0,   0,   0,   0,   0,   0,   0,\n",
       "          0,   0],\n",
       "       [  0,   0,   0,   0,   0,   0,   0,   0,   0,   0,   0,   0,   0,\n",
       "          0,   0,   0,   0,   0,   0,   0,   0,   0,   0,   0,   0,   0,\n",
       "          0,   0],\n",
       "       [  0,   0,   0,   0,   0,   0,   0,   0,   0,   0,   0,   0,   0,\n",
       "          0,   0,   0,   0,   0,   0,   0,   0,   0,   0,   0,   0,   0,\n",
       "          0,   0],\n",
       "       [  0,   0,   0,   0,   0,   0,   0,   0,   0,   0,   0,   0,   0,\n",
       "          0,   0,   0,   0,   0,   0,   0,   0,   0,   0,   0,   0,   0,\n",
       "          0,   0],\n",
       "       [  0,   0,   0,   0,   0,   0,   0,   0,   0,   0,   0,   0,   0,\n",
       "          0,   0,   0,   0,   0,   0,   0,   0,   0,   0,   0,   0,   0,\n",
       "          0,   0],\n",
       "       [  0,   0,   0,   0,   0,   0,   0,   0,   0,   0,   0,   0,   3,\n",
       "         18,  18,  18, 126, 136, 175,  26, 166, 255, 247, 127,   0,   0,\n",
       "          0,   0],\n",
       "       [  0,   0,   0,   0,   0,   0,   0,   0,  30,  36,  94, 154, 170,\n",
       "        253, 253, 253, 253, 253, 225, 172, 253, 242, 195,  64,   0,   0,\n",
       "          0,   0],\n",
       "       [  0,   0,   0,   0,   0,   0,   0,  49, 238, 253, 253, 253, 253,\n",
       "        253, 253, 253, 253, 251,  93,  82,  82,  56,  39,   0,   0,   0,\n",
       "          0,   0],\n",
       "       [  0,   0,   0,   0,   0,   0,   0,  18, 219, 253, 253, 253, 253,\n",
       "        253, 198, 182, 247, 241,   0,   0,   0,   0,   0,   0,   0,   0,\n",
       "          0,   0],\n",
       "       [  0,   0,   0,   0,   0,   0,   0,   0,  80, 156, 107, 253, 253,\n",
       "        205,  11,   0,  43, 154,   0,   0,   0,   0,   0,   0,   0,   0,\n",
       "          0,   0],\n",
       "       [  0,   0,   0,   0,   0,   0,   0,   0,   0,  14,   1, 154, 253,\n",
       "         90,   0,   0,   0,   0,   0,   0,   0,   0,   0,   0,   0,   0,\n",
       "          0,   0],\n",
       "       [  0,   0,   0,   0,   0,   0,   0,   0,   0,   0,   0, 139, 253,\n",
       "        190,   2,   0,   0,   0,   0,   0,   0,   0,   0,   0,   0,   0,\n",
       "          0,   0],\n",
       "       [  0,   0,   0,   0,   0,   0,   0,   0,   0,   0,   0,  11, 190,\n",
       "        253,  70,   0,   0,   0,   0,   0,   0,   0,   0,   0,   0,   0,\n",
       "          0,   0],\n",
       "       [  0,   0,   0,   0,   0,   0,   0,   0,   0,   0,   0,   0,  35,\n",
       "        241, 225, 160, 108,   1,   0,   0,   0,   0,   0,   0,   0,   0,\n",
       "          0,   0],\n",
       "       [  0,   0,   0,   0,   0,   0,   0,   0,   0,   0,   0,   0,   0,\n",
       "         81, 240, 253, 253, 119,  25,   0,   0,   0,   0,   0,   0,   0,\n",
       "          0,   0],\n",
       "       [  0,   0,   0,   0,   0,   0,   0,   0,   0,   0,   0,   0,   0,\n",
       "          0,  45, 186, 253, 253, 150,  27,   0,   0,   0,   0,   0,   0,\n",
       "          0,   0],\n",
       "       [  0,   0,   0,   0,   0,   0,   0,   0,   0,   0,   0,   0,   0,\n",
       "          0,   0,  16,  93, 252, 253, 187,   0,   0,   0,   0,   0,   0,\n",
       "          0,   0],\n",
       "       [  0,   0,   0,   0,   0,   0,   0,   0,   0,   0,   0,   0,   0,\n",
       "          0,   0,   0,   0, 249, 253, 249,  64,   0,   0,   0,   0,   0,\n",
       "          0,   0],\n",
       "       [  0,   0,   0,   0,   0,   0,   0,   0,   0,   0,   0,   0,   0,\n",
       "          0,  46, 130, 183, 253, 253, 207,   2,   0,   0,   0,   0,   0,\n",
       "          0,   0],\n",
       "       [  0,   0,   0,   0,   0,   0,   0,   0,   0,   0,   0,   0,  39,\n",
       "        148, 229, 253, 253, 253, 250, 182,   0,   0,   0,   0,   0,   0,\n",
       "          0,   0],\n",
       "       [  0,   0,   0,   0,   0,   0,   0,   0,   0,   0,  24, 114, 221,\n",
       "        253, 253, 253, 253, 201,  78,   0,   0,   0,   0,   0,   0,   0,\n",
       "          0,   0],\n",
       "       [  0,   0,   0,   0,   0,   0,   0,   0,  23,  66, 213, 253, 253,\n",
       "        253, 253, 198,  81,   2,   0,   0,   0,   0,   0,   0,   0,   0,\n",
       "          0,   0],\n",
       "       [  0,   0,   0,   0,   0,   0,  18, 171, 219, 253, 253, 253, 253,\n",
       "        195,  80,   9,   0,   0,   0,   0,   0,   0,   0,   0,   0,   0,\n",
       "          0,   0],\n",
       "       [  0,   0,   0,   0,  55, 172, 226, 253, 253, 253, 253, 244, 133,\n",
       "         11,   0,   0,   0,   0,   0,   0,   0,   0,   0,   0,   0,   0,\n",
       "          0,   0],\n",
       "       [  0,   0,   0,   0, 136, 253, 253, 253, 212, 135, 132,  16,   0,\n",
       "          0,   0,   0,   0,   0,   0,   0,   0,   0,   0,   0,   0,   0,\n",
       "          0,   0],\n",
       "       [  0,   0,   0,   0,   0,   0,   0,   0,   0,   0,   0,   0,   0,\n",
       "          0,   0,   0,   0,   0,   0,   0,   0,   0,   0,   0,   0,   0,\n",
       "          0,   0],\n",
       "       [  0,   0,   0,   0,   0,   0,   0,   0,   0,   0,   0,   0,   0,\n",
       "          0,   0,   0,   0,   0,   0,   0,   0,   0,   0,   0,   0,   0,\n",
       "          0,   0],\n",
       "       [  0,   0,   0,   0,   0,   0,   0,   0,   0,   0,   0,   0,   0,\n",
       "          0,   0,   0,   0,   0,   0,   0,   0,   0,   0,   0,   0,   0,\n",
       "          0,   0]], dtype=uint8)"
      ]
     },
     "execution_count": 5,
     "metadata": {},
     "output_type": "execute_result"
    }
   ],
   "source": [
    "X_train[0]"
   ]
  },
  {
   "cell_type": "code",
   "execution_count": 6,
   "id": "8e13e3b5",
   "metadata": {},
   "outputs": [
    {
     "name": "stdout",
     "output_type": "stream",
     "text": [
      "5\n"
     ]
    },
    {
     "data": {
      "image/png": "[encoded data removed]",
      "text/plain": [
       "<Figure size 432x288 with 1 Axes>"
      ]
     },
     "metadata": {
      "needs_background": "light"
     },
     "output_type": "display_data"
    }
   ],
   "source": [
    "plt.imshow(X_train[0])\n",
    "print(y_train[0])"
   ]
  },
  {
   "cell_type": "code",
   "execution_count": 7,
   "id": "91f0ba8f",
   "metadata": {},
   "outputs": [
    {
     "name": "stdout",
     "output_type": "stream",
     "text": [
      "0\n"
     ]
    },
    {
     "data": {
      "image/png": "[encoded data removed]",
      "text/plain": [
       "<Figure size 432x288 with 1 Axes>"
      ]
     },
     "metadata": {
      "needs_background": "light"
     },
     "output_type": "display_data"
    }
   ],
   "source": [
    "plt.imshow(X_train[1])\n",
    "print(y_train[1])"
   ]
  },
  {
   "cell_type": "code",
   "execution_count": 8,
   "id": "aa61a8dc",
   "metadata": {},
   "outputs": [
    {
     "name": "stdout",
     "output_type": "stream",
     "text": [
      "4\n"
     ]
    },
    {
     "data": {
      "image/png": "[encoded data removed]",
      "text/plain": [
       "<Figure size 432x288 with 1 Axes>"
      ]
     },
     "metadata": {
      "needs_background": "light"
     },
     "output_type": "display_data"
    }
   ],
   "source": [
    "plt.imshow(X_train[2])\n",
    "print(y_train[2])"
   ]
  },
  {
   "cell_type": "code",
   "execution_count": 9,
   "id": "a4d679b1",
   "metadata": {},
   "outputs": [
    {
     "name": "stdout",
     "output_type": "stream",
     "text": [
      "1\n"
     ]
    },
    {
     "data": {
      "image/png": "[encoded data removed]",
      "text/plain": [
       "<Figure size 432x288 with 1 Axes>"
      ]
     },
     "metadata": {
      "needs_background": "light"
     },
     "output_type": "display_data"
    }
   ],
   "source": [
    "plt.imshow(X_train[3])\n",
    "print(y_train[3])"
   ]
  },
  {
   "cell_type": "code",
   "execution_count": 10,
   "id": "dbc8c5a1",
   "metadata": {},
   "outputs": [
    {
     "name": "stdout",
     "output_type": "stream",
     "text": [
      "7\n"
     ]
    },
    {
     "data": {
      "image/png": "[encoded data removed]",
      "text/plain": [
       "<Figure size 432x288 with 1 Axes>"
      ]
     },
     "metadata": {
      "needs_background": "light"
     },
     "output_type": "display_data"
    }
   ],
   "source": [
    "plt.imshow(X_test[0])\n",
    "print(y_test[0])"
   ]
  },
  {
   "cell_type": "code",
   "execution_count": 11,
   "id": "b2a9ce6d",
   "metadata": {},
   "outputs": [
    {
     "name": "stdout",
     "output_type": "stream",
     "text": [
      "2\n"
     ]
    },
    {
     "data": {
      "image/png": "[encoded data removed]",
      "text/plain": [
       "<Figure size 432x288 with 1 Axes>"
      ]
     },
     "metadata": {
      "needs_background": "light"
     },
     "output_type": "display_data"
    }
   ],
   "source": [
    "plt.imshow(X_test[1])\n",
    "print(y_test[1])"
   ]
  },
  {
   "cell_type": "markdown",
   "id": "aaa95a79",
   "metadata": {},
   "source": [
    "### Preprocessing data"
   ]
  },
  {
   "cell_type": "code",
   "execution_count": 12,
   "id": "1ffe467a",
   "metadata": {},
   "outputs": [],
   "source": [
    "X_train = X_train/255\n",
    "X_text = X_test/255"
   ]
  },
  {
   "cell_type": "code",
   "execution_count": 13,
   "id": "b84efa41",
   "metadata": {},
   "outputs": [
    {
     "data": {
      "text/plain": [
       "array([[0.        , 0.        , 0.        , 0.        , 0.        ,\n",
       "        0.        , 0.        , 0.        , 0.        , 0.        ,\n",
       "        0.        , 0.        , 0.        , 0.        , 0.        ,\n",
       "        0.        , 0.        , 0.        , 0.        , 0.        ,\n",
       "        0.        , 0.        , 0.        , 0.        , 0.        ,\n",
       "        0.        , 0.        , 0.        ],\n",
       "       [0.        , 0.        , 0.        , 0.        , 0.        ,\n",
       "        0.        , 0.        , 0.        , 0.        , 0.        ,\n",
       "        0.        , 0.        , 0.        , 0.        , 0.        ,\n",
       "        0.        , 0.        , 0.        , 0.        , 0.        ,\n",
       "        0.        , 0.        , 0.        , 0.        , 0.        ,\n",
       "        0.        , 0.        , 0.        ],\n",
       "       [0.        , 0.        , 0.        , 0.        , 0.        ,\n",
       "        0.        , 0.        , 0.        , 0.        , 0.        ,\n",
       "        0.        , 0.        , 0.        , 0.        , 0.        ,\n",
       "        0.        , 0.        , 0.        , 0.        , 0.        ,\n",
       "        0.        , 0.        , 0.        , 0.        , 0.        ,\n",
       "        0.        , 0.        , 0.        ],\n",
       "       [0.        , 0.        , 0.        , 0.        , 0.        ,\n",
       "        0.        , 0.        , 0.        , 0.        , 0.        ,\n",
       "        0.        , 0.        , 0.        , 0.        , 0.        ,\n",
       "        0.        , 0.        , 0.        , 0.        , 0.        ,\n",
       "        0.        , 0.        , 0.        , 0.        , 0.        ,\n",
       "        0.        , 0.        , 0.        ],\n",
       "       [0.        , 0.        , 0.        , 0.        , 0.        ,\n",
       "        0.        , 0.        , 0.        , 0.        , 0.        ,\n",
       "        0.        , 0.        , 0.        , 0.        , 0.        ,\n",
       "        0.        , 0.        , 0.        , 0.        , 0.        ,\n",
       "        0.        , 0.        , 0.        , 0.        , 0.        ,\n",
       "        0.        , 0.        , 0.        ],\n",
       "       [0.        , 0.        , 0.        , 0.        , 0.        ,\n",
       "        0.        , 0.        , 0.        , 0.        , 0.        ,\n",
       "        0.        , 0.        , 0.01176471, 0.07058824, 0.07058824,\n",
       "        0.07058824, 0.49411765, 0.53333333, 0.68627451, 0.10196078,\n",
       "        0.65098039, 1.        , 0.96862745, 0.49803922, 0.        ,\n",
       "        0.        , 0.        , 0.        ],\n",
       "       [0.        , 0.        , 0.        , 0.        , 0.        ,\n",
       "        0.        , 0.        , 0.        , 0.11764706, 0.14117647,\n",
       "        0.36862745, 0.60392157, 0.66666667, 0.99215686, 0.99215686,\n",
       "        0.99215686, 0.99215686, 0.99215686, 0.88235294, 0.6745098 ,\n",
       "        0.99215686, 0.94901961, 0.76470588, 0.25098039, 0.        ,\n",
       "        0.        , 0.        , 0.        ],\n",
       "       [0.        , 0.        , 0.        , 0.        , 0.        ,\n",
       "        0.        , 0.        , 0.19215686, 0.93333333, 0.99215686,\n",
       "        0.99215686, 0.99215686, 0.99215686, 0.99215686, 0.99215686,\n",
       "        0.99215686, 0.99215686, 0.98431373, 0.36470588, 0.32156863,\n",
       "        0.32156863, 0.21960784, 0.15294118, 0.        , 0.        ,\n",
       "        0.        , 0.        , 0.        ],\n",
       "       [0.        , 0.        , 0.        , 0.        , 0.        ,\n",
       "        0.        , 0.        , 0.07058824, 0.85882353, 0.99215686,\n",
       "        0.99215686, 0.99215686, 0.99215686, 0.99215686, 0.77647059,\n",
       "        0.71372549, 0.96862745, 0.94509804, 0.        , 0.        ,\n",
       "        0.        , 0.        , 0.        , 0.        , 0.        ,\n",
       "        0.        , 0.        , 0.        ],\n",
       "       [0.        , 0.        , 0.        , 0.        , 0.        ,\n",
       "        0.        , 0.        , 0.        , 0.31372549, 0.61176471,\n",
       "        0.41960784, 0.99215686, 0.99215686, 0.80392157, 0.04313725,\n",
       "        0.        , 0.16862745, 0.60392157, 0.        , 0.        ,\n",
       "        0.        , 0.        , 0.        , 0.        , 0.        ,\n",
       "        0.        , 0.        , 0.        ],\n",
       "       [0.        , 0.        , 0.        , 0.        , 0.        ,\n",
       "        0.        , 0.        , 0.        , 0.        , 0.05490196,\n",
       "        0.00392157, 0.60392157, 0.99215686, 0.35294118, 0.        ,\n",
       "        0.        , 0.        , 0.        , 0.        , 0.        ,\n",
       "        0.        , 0.        , 0.        , 0.        , 0.        ,\n",
       "        0.        , 0.        , 0.        ],\n",
       "       [0.        , 0.        , 0.        , 0.        , 0.        ,\n",
       "        0.        , 0.        , 0.        , 0.        , 0.        ,\n",
       "        0.        , 0.54509804, 0.99215686, 0.74509804, 0.00784314,\n",
       "        0.        , 0.        , 0.        , 0.        , 0.        ,\n",
       "        0.        , 0.        , 0.        , 0.        , 0.        ,\n",
       "        0.        , 0.        , 0.        ],\n",
       "       [0.        , 0.        , 0.        , 0.        , 0.        ,\n",
       "        0.        , 0.        , 0.        , 0.        , 0.        ,\n",
       "        0.        , 0.04313725, 0.74509804, 0.99215686, 0.2745098 ,\n",
       "        0.        , 0.        , 0.        , 0.        , 0.        ,\n",
       "        0.        , 0.        , 0.        , 0.        , 0.        ,\n",
       "        0.        , 0.        , 0.        ],\n",
       "       [0.        , 0.        , 0.        , 0.        , 0.        ,\n",
       "        0.        , 0.        , 0.        , 0.        , 0.        ,\n",
       "        0.        , 0.        , 0.1372549 , 0.94509804, 0.88235294,\n",
       "        0.62745098, 0.42352941, 0.00392157, 0.        , 0.        ,\n",
       "        0.        , 0.        , 0.        , 0.        , 0.        ,\n",
       "        0.        , 0.        , 0.        ],\n",
       "       [0.        , 0.        , 0.        , 0.        , 0.        ,\n",
       "        0.        , 0.        , 0.        , 0.        , 0.        ,\n",
       "        0.        , 0.        , 0.        , 0.31764706, 0.94117647,\n",
       "        0.99215686, 0.99215686, 0.46666667, 0.09803922, 0.        ,\n",
       "        0.        , 0.        , 0.        , 0.        , 0.        ,\n",
       "        0.        , 0.        , 0.        ],\n",
       "       [0.        , 0.        , 0.        , 0.        , 0.        ,\n",
       "        0.        , 0.        , 0.        , 0.        , 0.        ,\n",
       "        0.        , 0.        , 0.        , 0.        , 0.17647059,\n",
       "        0.72941176, 0.99215686, 0.99215686, 0.58823529, 0.10588235,\n",
       "        0.        , 0.        , 0.        , 0.        , 0.        ,\n",
       "        0.        , 0.        , 0.        ],\n",
       "       [0.        , 0.        , 0.        , 0.        , 0.        ,\n",
       "        0.        , 0.        , 0.        , 0.        , 0.        ,\n",
       "        0.        , 0.        , 0.        , 0.        , 0.        ,\n",
       "        0.0627451 , 0.36470588, 0.98823529, 0.99215686, 0.73333333,\n",
       "        0.        , 0.        , 0.        , 0.        , 0.        ,\n",
       "        0.        , 0.        , 0.        ],\n",
       "       [0.        , 0.        , 0.        , 0.        , 0.        ,\n",
       "        0.        , 0.        , 0.        , 0.        , 0.        ,\n",
       "        0.        , 0.        , 0.        , 0.        , 0.        ,\n",
       "        0.        , 0.        , 0.97647059, 0.99215686, 0.97647059,\n",
       "        0.25098039, 0.        , 0.        , 0.        , 0.        ,\n",
       "        0.        , 0.        , 0.        ],\n",
       "       [0.        , 0.        , 0.        , 0.        , 0.        ,\n",
       "        0.        , 0.        , 0.        , 0.        , 0.        ,\n",
       "        0.        , 0.        , 0.        , 0.        , 0.18039216,\n",
       "        0.50980392, 0.71764706, 0.99215686, 0.99215686, 0.81176471,\n",
       "        0.00784314, 0.        , 0.        , 0.        , 0.        ,\n",
       "        0.        , 0.        , 0.        ],\n",
       "       [0.        , 0.        , 0.        , 0.        , 0.        ,\n",
       "        0.        , 0.        , 0.        , 0.        , 0.        ,\n",
       "        0.        , 0.        , 0.15294118, 0.58039216, 0.89803922,\n",
       "        0.99215686, 0.99215686, 0.99215686, 0.98039216, 0.71372549,\n",
       "        0.        , 0.        , 0.        , 0.        , 0.        ,\n",
       "        0.        , 0.        , 0.        ],\n",
       "       [0.        , 0.        , 0.        , 0.        , 0.        ,\n",
       "        0.        , 0.        , 0.        , 0.        , 0.        ,\n",
       "        0.09411765, 0.44705882, 0.86666667, 0.99215686, 0.99215686,\n",
       "        0.99215686, 0.99215686, 0.78823529, 0.30588235, 0.        ,\n",
       "        0.        , 0.        , 0.        , 0.        , 0.        ,\n",
       "        0.        , 0.        , 0.        ],\n",
       "       [0.        , 0.        , 0.        , 0.        , 0.        ,\n",
       "        0.        , 0.        , 0.        , 0.09019608, 0.25882353,\n",
       "        0.83529412, 0.99215686, 0.99215686, 0.99215686, 0.99215686,\n",
       "        0.77647059, 0.31764706, 0.00784314, 0.        , 0.        ,\n",
       "        0.        , 0.        , 0.        , 0.        , 0.        ,\n",
       "        0.        , 0.        , 0.        ],\n",
       "       [0.        , 0.        , 0.        , 0.        , 0.        ,\n",
       "        0.        , 0.07058824, 0.67058824, 0.85882353, 0.99215686,\n",
       "        0.99215686, 0.99215686, 0.99215686, 0.76470588, 0.31372549,\n",
       "        0.03529412, 0.        , 0.        , 0.        , 0.        ,\n",
       "        0.        , 0.        , 0.        , 0.        , 0.        ,\n",
       "        0.        , 0.        , 0.        ],\n",
       "       [0.        , 0.        , 0.        , 0.        , 0.21568627,\n",
       "        0.6745098 , 0.88627451, 0.99215686, 0.99215686, 0.99215686,\n",
       "        0.99215686, 0.95686275, 0.52156863, 0.04313725, 0.        ,\n",
       "        0.        , 0.        , 0.        , 0.        , 0.        ,\n",
       "        0.        , 0.        , 0.        , 0.        , 0.        ,\n",
       "        0.        , 0.        , 0.        ],\n",
       "       [0.        , 0.        , 0.        , 0.        , 0.53333333,\n",
       "        0.99215686, 0.99215686, 0.99215686, 0.83137255, 0.52941176,\n",
       "        0.51764706, 0.0627451 , 0.        , 0.        , 0.        ,\n",
       "        0.        , 0.        , 0.        , 0.        , 0.        ,\n",
       "        0.        , 0.        , 0.        , 0.        , 0.        ,\n",
       "        0.        , 0.        , 0.        ],\n",
       "       [0.        , 0.        , 0.        , 0.        , 0.        ,\n",
       "        0.        , 0.        , 0.        , 0.        , 0.        ,\n",
       "        0.        , 0.        , 0.        , 0.        , 0.        ,\n",
       "        0.        , 0.        , 0.        , 0.        , 0.        ,\n",
       "        0.        , 0.        , 0.        , 0.        , 0.        ,\n",
       "        0.        , 0.        , 0.        ],\n",
       "       [0.        , 0.        , 0.        , 0.        , 0.        ,\n",
       "        0.        , 0.        , 0.        , 0.        , 0.        ,\n",
       "        0.        , 0.        , 0.        , 0.        , 0.        ,\n",
       "        0.        , 0.        , 0.        , 0.        , 0.        ,\n",
       "        0.        , 0.        , 0.        , 0.        , 0.        ,\n",
       "        0.        , 0.        , 0.        ],\n",
       "       [0.        , 0.        , 0.        , 0.        , 0.        ,\n",
       "        0.        , 0.        , 0.        , 0.        , 0.        ,\n",
       "        0.        , 0.        , 0.        , 0.        , 0.        ,\n",
       "        0.        , 0.        , 0.        , 0.        , 0.        ,\n",
       "        0.        , 0.        , 0.        , 0.        , 0.        ,\n",
       "        0.        , 0.        , 0.        ]])"
      ]
     },
     "execution_count": 13,
     "metadata": {},
     "output_type": "execute_result"
    }
   ],
   "source": [
    "X_train[0]"
   ]
  },
  {
   "cell_type": "markdown",
   "id": "2d098963",
   "metadata": {},
   "source": [
    "### Create the model"
   ]
  },
  {
   "cell_type": "code",
   "execution_count": 14,
   "id": "366b0580",
   "metadata": {},
   "outputs": [],
   "source": [
    "model = Sequential()"
   ]
  },
  {
   "cell_type": "code",
   "execution_count": 15,
   "id": "59310609",
   "metadata": {},
   "outputs": [],
   "source": [
    "model.add(Flatten(input_shape=(28,28)))\n",
    "model.add(Dense(128,activation='relu'))\n",
    "model.add(Dense(10, activation='softmax'))"
   ]
  },
  {
   "cell_type": "code",
   "execution_count": 16,
   "id": "de1c2e39",
   "metadata": {},
   "outputs": [
    {
     "name": "stdout",
     "output_type": "stream",
     "text": [
      "Model: \"sequential\"\n",
      "_________________________________________________________________\n",
      "Layer (type)                 Output Shape              Param #   \n",
      "=================================================================\n",
      "flatten (Flatten)            (None, 784)               0         \n",
      "_________________________________________________________________\n",
      "dense (Dense)                (None, 128)               100480    \n",
      "_________________________________________________________________\n",
      "dense_1 (Dense)              (None, 10)                1290      \n",
      "=================================================================\n",
      "Total params: 101,770\n",
      "Trainable params: 101,770\n",
      "Non-trainable params: 0\n",
      "_________________________________________________________________\n"
     ]
    }
   ],
   "source": [
    "model.summary()"
   ]
  },
  {
   "cell_type": "code",
   "execution_count": 17,
   "id": "5c237ed0",
   "metadata": {},
   "outputs": [],
   "source": [
    "model.compile(optimizer='Adam',loss='sparse_categorical_crossentropy',metrics=['accuracy'])"
   ]
  },
  {
   "cell_type": "markdown",
   "id": "070921f6",
   "metadata": {},
   "source": [
    "### Train the model"
   ]
  },
  {
   "cell_type": "code",
   "execution_count": 18,
   "id": "c17fc8fd",
   "metadata": {},
   "outputs": [
    {
     "name": "stdout",
     "output_type": "stream",
     "text": [
      "Epoch 1/100\n",
      "750/750 [==============================] - 2s 2ms/step - loss: 0.3315 - accuracy: 0.9085 - val_loss: 0.1798 - val_accuracy: 0.9488\n",
      "Epoch 2/100\n",
      "750/750 [==============================] - 1s 2ms/step - loss: 0.1481 - accuracy: 0.9572 - val_loss: 0.1293 - val_accuracy: 0.9625\n",
      "Epoch 3/100\n",
      "750/750 [==============================] - 1s 2ms/step - loss: 0.1028 - accuracy: 0.9707 - val_loss: 0.1104 - val_accuracy: 0.9669\n",
      "Epoch 4/100\n",
      "750/750 [==============================] - 1s 2ms/step - loss: 0.0782 - accuracy: 0.9778 - val_loss: 0.0949 - val_accuracy: 0.9718\n",
      "Epoch 5/100\n",
      "750/750 [==============================] - 1s 2ms/step - loss: 0.0611 - accuracy: 0.9823 - val_loss: 0.0961 - val_accuracy: 0.9705\n",
      "Epoch 6/100\n",
      "750/750 [==============================] - 1s 2ms/step - loss: 0.0490 - accuracy: 0.9858 - val_loss: 0.0919 - val_accuracy: 0.9722\n",
      "Epoch 7/100\n",
      "750/750 [==============================] - 1s 2ms/step - loss: 0.0398 - accuracy: 0.9890 - val_loss: 0.0822 - val_accuracy: 0.9745\n",
      "Epoch 8/100\n",
      "750/750 [==============================] - 1s 2ms/step - loss: 0.0325 - accuracy: 0.9912 - val_loss: 0.0871 - val_accuracy: 0.9744\n",
      "Epoch 9/100\n",
      "750/750 [==============================] - 1s 2ms/step - loss: 0.0267 - accuracy: 0.9927 - val_loss: 0.0895 - val_accuracy: 0.9729\n",
      "Epoch 10/100\n",
      "750/750 [==============================] - 1s 2ms/step - loss: 0.0217 - accuracy: 0.9946 - val_loss: 0.0864 - val_accuracy: 0.9753\n",
      "Epoch 11/100\n",
      "750/750 [==============================] - 1s 2ms/step - loss: 0.0177 - accuracy: 0.9953 - val_loss: 0.0881 - val_accuracy: 0.9765\n",
      "Epoch 12/100\n",
      "750/750 [==============================] - 1s 2ms/step - loss: 0.0150 - accuracy: 0.9964 - val_loss: 0.0904 - val_accuracy: 0.9747\n",
      "Epoch 13/100\n",
      "750/750 [==============================] - 1s 2ms/step - loss: 0.0140 - accuracy: 0.9964 - val_loss: 0.0913 - val_accuracy: 0.9745\n",
      "Epoch 14/100\n",
      "750/750 [==============================] - 1s 2ms/step - loss: 0.0097 - accuracy: 0.9977 - val_loss: 0.1044 - val_accuracy: 0.9737\n",
      "Epoch 15/100\n",
      "750/750 [==============================] - 1s 2ms/step - loss: 0.0084 - accuracy: 0.9983 - val_loss: 0.1047 - val_accuracy: 0.9726\n",
      "Epoch 16/100\n",
      "750/750 [==============================] - 1s 2ms/step - loss: 0.0082 - accuracy: 0.9978 - val_loss: 0.0950 - val_accuracy: 0.9763\n",
      "Epoch 17/100\n",
      "750/750 [==============================] - 1s 2ms/step - loss: 0.0075 - accuracy: 0.9983 - val_loss: 0.0963 - val_accuracy: 0.9764\n",
      "Epoch 18/100\n",
      "750/750 [==============================] - 1s 2ms/step - loss: 0.0036 - accuracy: 0.9996 - val_loss: 0.0960 - val_accuracy: 0.9768\n",
      "Epoch 19/100\n",
      "750/750 [==============================] - 1s 2ms/step - loss: 0.0042 - accuracy: 0.9991 - val_loss: 0.1181 - val_accuracy: 0.9721\n",
      "Epoch 20/100\n",
      "750/750 [==============================] - 1s 2ms/step - loss: 0.0088 - accuracy: 0.9973 - val_loss: 0.1100 - val_accuracy: 0.9746\n",
      "Epoch 21/100\n",
      "750/750 [==============================] - 1s 2ms/step - loss: 0.0052 - accuracy: 0.9987 - val_loss: 0.1042 - val_accuracy: 0.9770\n",
      "Epoch 22/100\n",
      "750/750 [==============================] - 1s 2ms/step - loss: 0.0028 - accuracy: 0.9996 - val_loss: 0.1096 - val_accuracy: 0.9773\n",
      "Epoch 23/100\n",
      "750/750 [==============================] - 1s 2ms/step - loss: 0.0019 - accuracy: 0.9998 - val_loss: 0.1057 - val_accuracy: 0.9774\n",
      "Epoch 24/100\n",
      "750/750 [==============================] - 1s 2ms/step - loss: 0.0072 - accuracy: 0.9980 - val_loss: 0.1248 - val_accuracy: 0.9736\n",
      "Epoch 25/100\n",
      "750/750 [==============================] - 1s 2ms/step - loss: 0.0030 - accuracy: 0.9994 - val_loss: 0.1104 - val_accuracy: 0.9772\n",
      "Epoch 26/100\n",
      "750/750 [==============================] - 1s 2ms/step - loss: 0.0013 - accuracy: 0.9998 - val_loss: 0.1051 - val_accuracy: 0.9776\n",
      "Epoch 27/100\n",
      "750/750 [==============================] - 2s 3ms/step - loss: 5.6627e-04 - accuracy: 1.0000 - val_loss: 0.1119 - val_accuracy: 0.9770\n",
      "Epoch 28/100\n",
      "750/750 [==============================] - 2s 2ms/step - loss: 0.0040 - accuracy: 0.9989 - val_loss: 0.1426 - val_accuracy: 0.9716\n",
      "Epoch 29/100\n",
      "750/750 [==============================] - 1s 2ms/step - loss: 0.0089 - accuracy: 0.9971 - val_loss: 0.1226 - val_accuracy: 0.9772\n",
      "Epoch 30/100\n",
      "750/750 [==============================] - 1s 2ms/step - loss: 0.0016 - accuracy: 0.9997 - val_loss: 0.1137 - val_accuracy: 0.9777\n",
      "Epoch 31/100\n",
      "750/750 [==============================] - 1s 2ms/step - loss: 5.7057e-04 - accuracy: 0.9999 - val_loss: 0.1159 - val_accuracy: 0.9787\n",
      "Epoch 32/100\n",
      "750/750 [==============================] - 1s 2ms/step - loss: 3.5134e-04 - accuracy: 1.0000 - val_loss: 0.1197 - val_accuracy: 0.9768\n",
      "Epoch 33/100\n",
      "750/750 [==============================] - 1s 2ms/step - loss: 0.0020 - accuracy: 0.9995 - val_loss: 0.1478 - val_accuracy: 0.9694\n",
      "Epoch 34/100\n",
      "750/750 [==============================] - 1s 2ms/step - loss: 0.0104 - accuracy: 0.9966 - val_loss: 0.1291 - val_accuracy: 0.9760\n",
      "Epoch 35/100\n",
      "750/750 [==============================] - 1s 2ms/step - loss: 0.0011 - accuracy: 0.9999 - val_loss: 0.1225 - val_accuracy: 0.9769\n",
      "Epoch 36/100\n",
      "750/750 [==============================] - 1s 2ms/step - loss: 3.8859e-04 - accuracy: 1.0000 - val_loss: 0.1201 - val_accuracy: 0.9782\n",
      "Epoch 37/100\n",
      "750/750 [==============================] - 1s 2ms/step - loss: 2.1020e-04 - accuracy: 1.0000 - val_loss: 0.1218 - val_accuracy: 0.9787\n",
      "Epoch 38/100\n",
      "750/750 [==============================] - 1s 2ms/step - loss: 1.5592e-04 - accuracy: 1.0000 - val_loss: 0.1194 - val_accuracy: 0.9793\n",
      "Epoch 39/100\n",
      "750/750 [==============================] - 1s 2ms/step - loss: 1.3332e-04 - accuracy: 1.0000 - val_loss: 0.1227 - val_accuracy: 0.9789\n",
      "Epoch 40/100\n",
      "750/750 [==============================] - 1s 2ms/step - loss: 1.1462e-04 - accuracy: 1.0000 - val_loss: 0.1243 - val_accuracy: 0.9790\n",
      "Epoch 41/100\n",
      "750/750 [==============================] - 1s 2ms/step - loss: 1.0266e-04 - accuracy: 1.0000 - val_loss: 0.1257 - val_accuracy: 0.9783\n",
      "Epoch 42/100\n",
      "750/750 [==============================] - 2s 2ms/step - loss: 0.0097 - accuracy: 0.9973 - val_loss: 0.1646 - val_accuracy: 0.9710\n",
      "Epoch 43/100\n",
      "750/750 [==============================] - 2s 2ms/step - loss: 0.0049 - accuracy: 0.9984 - val_loss: 0.1403 - val_accuracy: 0.9768\n",
      "Epoch 44/100\n",
      "750/750 [==============================] - 2s 2ms/step - loss: 5.7603e-04 - accuracy: 0.9999 - val_loss: 0.1293 - val_accuracy: 0.9770\n",
      "Epoch 45/100\n",
      "750/750 [==============================] - 2s 2ms/step - loss: 1.7324e-04 - accuracy: 1.0000 - val_loss: 0.1283 - val_accuracy: 0.9777\n",
      "Epoch 46/100\n",
      "750/750 [==============================] - 1s 2ms/step - loss: 1.0997e-04 - accuracy: 1.0000 - val_loss: 0.1290 - val_accuracy: 0.9785\n",
      "Epoch 47/100\n",
      "750/750 [==============================] - 2s 2ms/step - loss: 8.9647e-05 - accuracy: 1.0000 - val_loss: 0.1297 - val_accuracy: 0.9781\n",
      "Epoch 48/100\n",
      "750/750 [==============================] - 2s 2ms/step - loss: 7.6464e-05 - accuracy: 1.0000 - val_loss: 0.1300 - val_accuracy: 0.9789\n",
      "Epoch 49/100\n",
      "750/750 [==============================] - 2s 2ms/step - loss: 6.5057e-05 - accuracy: 1.0000 - val_loss: 0.1328 - val_accuracy: 0.9792\n",
      "Epoch 50/100\n",
      "750/750 [==============================] - 1s 2ms/step - loss: 5.7603e-05 - accuracy: 1.0000 - val_loss: 0.1339 - val_accuracy: 0.9789\n",
      "Epoch 51/100\n",
      "750/750 [==============================] - 1s 2ms/step - loss: 5.3379e-05 - accuracy: 1.0000 - val_loss: 0.1357 - val_accuracy: 0.9797\n",
      "Epoch 52/100\n",
      "750/750 [==============================] - 1s 2ms/step - loss: 0.0115 - accuracy: 0.9964 - val_loss: 0.1538 - val_accuracy: 0.9761\n",
      "Epoch 53/100\n",
      "750/750 [==============================] - 1s 2ms/step - loss: 0.0027 - accuracy: 0.9991 - val_loss: 0.1638 - val_accuracy: 0.9749\n",
      "Epoch 54/100\n",
      "750/750 [==============================] - 2s 2ms/step - loss: 0.0018 - accuracy: 0.9996 - val_loss: 0.1406 - val_accuracy: 0.9782\n",
      "Epoch 55/100\n",
      "750/750 [==============================] - 2s 2ms/step - loss: 2.5878e-04 - accuracy: 0.9999 - val_loss: 0.1443 - val_accuracy: 0.9780\n",
      "Epoch 56/100\n",
      "750/750 [==============================] - 1s 2ms/step - loss: 1.3539e-04 - accuracy: 1.0000 - val_loss: 0.1408 - val_accuracy: 0.9785\n",
      "Epoch 57/100\n"
     ]
    },
    {
     "name": "stdout",
     "output_type": "stream",
     "text": [
      "750/750 [==============================] - 1s 2ms/step - loss: 6.2314e-05 - accuracy: 1.0000 - val_loss: 0.1408 - val_accuracy: 0.9787\n",
      "Epoch 58/100\n",
      "750/750 [==============================] - 1s 2ms/step - loss: 4.9197e-05 - accuracy: 1.0000 - val_loss: 0.1413 - val_accuracy: 0.9783\n",
      "Epoch 59/100\n",
      "750/750 [==============================] - 1s 2ms/step - loss: 4.2087e-05 - accuracy: 1.0000 - val_loss: 0.1415 - val_accuracy: 0.9787\n",
      "Epoch 60/100\n",
      "750/750 [==============================] - 1s 2ms/step - loss: 3.5468e-05 - accuracy: 1.0000 - val_loss: 0.1417 - val_accuracy: 0.9785\n",
      "Epoch 61/100\n",
      "750/750 [==============================] - 1s 2ms/step - loss: 3.0735e-05 - accuracy: 1.0000 - val_loss: 0.1433 - val_accuracy: 0.9795\n",
      "Epoch 62/100\n",
      "750/750 [==============================] - 1s 2ms/step - loss: 2.7445e-05 - accuracy: 1.0000 - val_loss: 0.1444 - val_accuracy: 0.9792\n",
      "Epoch 63/100\n",
      "750/750 [==============================] - 1s 2ms/step - loss: 2.3471e-05 - accuracy: 1.0000 - val_loss: 0.1447 - val_accuracy: 0.9797\n",
      "Epoch 64/100\n",
      "750/750 [==============================] - 1s 2ms/step - loss: 0.0039 - accuracy: 0.9989 - val_loss: 0.2618 - val_accuracy: 0.9630\n",
      "Epoch 65/100\n",
      "750/750 [==============================] - 1s 2ms/step - loss: 0.0081 - accuracy: 0.9976 - val_loss: 0.1570 - val_accuracy: 0.9772\n",
      "Epoch 66/100\n",
      "750/750 [==============================] - 1s 2ms/step - loss: 0.0015 - accuracy: 0.9995 - val_loss: 0.1581 - val_accuracy: 0.9764\n",
      "Epoch 67/100\n",
      "750/750 [==============================] - 1s 2ms/step - loss: 3.1769e-04 - accuracy: 1.0000 - val_loss: 0.1509 - val_accuracy: 0.9774\n",
      "Epoch 68/100\n",
      "750/750 [==============================] - 1s 2ms/step - loss: 6.7695e-05 - accuracy: 1.0000 - val_loss: 0.1484 - val_accuracy: 0.9783\n",
      "Epoch 69/100\n",
      "750/750 [==============================] - 1s 2ms/step - loss: 4.2680e-05 - accuracy: 1.0000 - val_loss: 0.1470 - val_accuracy: 0.9784\n",
      "Epoch 70/100\n",
      "750/750 [==============================] - 1s 2ms/step - loss: 3.3946e-05 - accuracy: 1.0000 - val_loss: 0.1479 - val_accuracy: 0.9786\n",
      "Epoch 71/100\n",
      "750/750 [==============================] - 1s 2ms/step - loss: 2.8500e-05 - accuracy: 1.0000 - val_loss: 0.1473 - val_accuracy: 0.9787\n",
      "Epoch 72/100\n",
      "750/750 [==============================] - 1s 2ms/step - loss: 2.3966e-05 - accuracy: 1.0000 - val_loss: 0.1483 - val_accuracy: 0.9793\n",
      "Epoch 73/100\n",
      "750/750 [==============================] - 1s 2ms/step - loss: 2.0102e-05 - accuracy: 1.0000 - val_loss: 0.1484 - val_accuracy: 0.9798\n",
      "Epoch 74/100\n",
      "750/750 [==============================] - 1s 2ms/step - loss: 1.7148e-05 - accuracy: 1.0000 - val_loss: 0.1485 - val_accuracy: 0.9797\n",
      "Epoch 75/100\n",
      "750/750 [==============================] - 1s 2ms/step - loss: 1.4226e-05 - accuracy: 1.0000 - val_loss: 0.1486 - val_accuracy: 0.9799\n",
      "Epoch 76/100\n",
      "750/750 [==============================] - 1s 2ms/step - loss: 1.2364e-05 - accuracy: 1.0000 - val_loss: 0.1518 - val_accuracy: 0.9798\n",
      "Epoch 77/100\n",
      "750/750 [==============================] - 1s 2ms/step - loss: 0.0075 - accuracy: 0.9982 - val_loss: 0.1913 - val_accuracy: 0.9728\n",
      "Epoch 78/100\n",
      "750/750 [==============================] - 1s 2ms/step - loss: 0.0049 - accuracy: 0.9983 - val_loss: 0.1668 - val_accuracy: 0.9766\n",
      "Epoch 79/100\n",
      "750/750 [==============================] - 1s 2ms/step - loss: 0.0010 - accuracy: 0.9996 - val_loss: 0.1553 - val_accuracy: 0.9787\n",
      "Epoch 80/100\n",
      "750/750 [==============================] - 1s 2ms/step - loss: 8.1295e-05 - accuracy: 1.0000 - val_loss: 0.1546 - val_accuracy: 0.9790\n",
      "Epoch 81/100\n",
      "750/750 [==============================] - 1s 2ms/step - loss: 4.1056e-05 - accuracy: 1.0000 - val_loss: 0.1537 - val_accuracy: 0.9791\n",
      "Epoch 82/100\n",
      "750/750 [==============================] - 1s 2ms/step - loss: 3.0845e-05 - accuracy: 1.0000 - val_loss: 0.1542 - val_accuracy: 0.9792\n",
      "Epoch 83/100\n",
      "750/750 [==============================] - 1s 2ms/step - loss: 2.5189e-05 - accuracy: 1.0000 - val_loss: 0.1547 - val_accuracy: 0.9793\n",
      "Epoch 84/100\n",
      "750/750 [==============================] - 1s 2ms/step - loss: 2.0834e-05 - accuracy: 1.0000 - val_loss: 0.1550 - val_accuracy: 0.9793\n",
      "Epoch 85/100\n",
      "750/750 [==============================] - 1s 2ms/step - loss: 1.7430e-05 - accuracy: 1.0000 - val_loss: 0.1554 - val_accuracy: 0.9794\n",
      "Epoch 86/100\n",
      "750/750 [==============================] - 1s 2ms/step - loss: 1.4525e-05 - accuracy: 1.0000 - val_loss: 0.1564 - val_accuracy: 0.9790\n",
      "Epoch 87/100\n",
      "750/750 [==============================] - 1s 2ms/step - loss: 1.2156e-05 - accuracy: 1.0000 - val_loss: 0.1573 - val_accuracy: 0.9792\n",
      "Epoch 88/100\n",
      "750/750 [==============================] - 1s 2ms/step - loss: 9.9576e-06 - accuracy: 1.0000 - val_loss: 0.1584 - val_accuracy: 0.9793\n",
      "Epoch 89/100\n",
      "750/750 [==============================] - 2s 2ms/step - loss: 8.2667e-06 - accuracy: 1.0000 - val_loss: 0.1586 - val_accuracy: 0.9790\n",
      "Epoch 90/100\n",
      "750/750 [==============================] - 2s 2ms/step - loss: 7.0923e-06 - accuracy: 1.0000 - val_loss: 0.1592 - val_accuracy: 0.9795\n",
      "Epoch 91/100\n",
      "750/750 [==============================] - 2s 2ms/step - loss: 0.0082 - accuracy: 0.9979 - val_loss: 0.1887 - val_accuracy: 0.9750\n",
      "Epoch 92/100\n",
      "750/750 [==============================] - 2s 2ms/step - loss: 0.0052 - accuracy: 0.9984 - val_loss: 0.1827 - val_accuracy: 0.9772\n",
      "Epoch 93/100\n",
      "750/750 [==============================] - 2s 2ms/step - loss: 9.3823e-04 - accuracy: 0.9997 - val_loss: 0.1747 - val_accuracy: 0.9777\n",
      "Epoch 94/100\n",
      "750/750 [==============================] - 2s 2ms/step - loss: 1.6104e-04 - accuracy: 1.0000 - val_loss: 0.1685 - val_accuracy: 0.9783\n",
      "Epoch 95/100\n",
      "750/750 [==============================] - 1s 2ms/step - loss: 5.8400e-05 - accuracy: 1.0000 - val_loss: 0.1658 - val_accuracy: 0.9794\n",
      "Epoch 96/100\n",
      "750/750 [==============================] - 1s 2ms/step - loss: 2.4858e-05 - accuracy: 1.0000 - val_loss: 0.1652 - val_accuracy: 0.9797\n",
      "Epoch 97/100\n",
      "750/750 [==============================] - 1s 2ms/step - loss: 1.9173e-05 - accuracy: 1.0000 - val_loss: 0.1653 - val_accuracy: 0.9794\n",
      "Epoch 98/100\n",
      "750/750 [==============================] - 1s 2ms/step - loss: 1.5528e-05 - accuracy: 1.0000 - val_loss: 0.1652 - val_accuracy: 0.9795\n",
      "Epoch 99/100\n",
      "750/750 [==============================] - 2s 2ms/step - loss: 1.2747e-05 - accuracy: 1.0000 - val_loss: 0.1661 - val_accuracy: 0.9793\n",
      "Epoch 100/100\n",
      "750/750 [==============================] - 1s 2ms/step - loss: 1.0576e-05 - accuracy: 1.0000 - val_loss: 0.1662 - val_accuracy: 0.9795\n",
      "The model has successfully trained\n",
      "Saving the model as mnist.h5\n"
     ]
    }
   ],
   "source": [
    "history = model.fit(X_train,y_train,batch_size=64,epochs=100,verbose=1,validation_split=0.2)\n",
    "print(\"The model has successfully trained\")\n",
    "model.save('mnist.h5')\n",
    "print(\"Saving the model as mnist.h5\")"
   ]
  },
  {
   "cell_type": "markdown",
   "id": "291ee120",
   "metadata": {},
   "source": [
    "### Evaluate the model"
   ]
  },
  {
   "cell_type": "code",
   "execution_count": 19,
   "id": "c616ab14",
   "metadata": {},
   "outputs": [
    {
     "name": "stdout",
     "output_type": "stream",
     "text": [
      "313/313 [==============================] - 0s 1ms/step - loss: 36.1329 - accuracy: 0.9805\n"
     ]
    },
    {
     "data": {
      "text/plain": [
       "[36.13286209106445, 0.9804999828338623]"
      ]
     },
     "execution_count": 19,
     "metadata": {},
     "output_type": "execute_result"
    }
   ],
   "source": [
    "model.evaluate(X_test,y_test)"
   ]
  },
  {
   "cell_type": "markdown",
   "id": "cc1ea8b1",
   "metadata": {},
   "source": [
    "### Predict the model"
   ]
  },
  {
   "cell_type": "code",
   "execution_count": 20,
   "id": "c031e7fa",
   "metadata": {},
   "outputs": [
    {
     "data": {
      "text/plain": [
       "array([[0., 0., 0., ..., 1., 0., 0.],\n",
       "       [0., 0., 1., ..., 0., 0., 0.],\n",
       "       [0., 1., 0., ..., 0., 0., 0.],\n",
       "       ...,\n",
       "       [0., 0., 0., ..., 0., 0., 0.],\n",
       "       [0., 0., 0., ..., 0., 0., 0.],\n",
       "       [0., 0., 0., ..., 0., 0., 0.]], dtype=float32)"
      ]
     },
     "execution_count": 20,
     "metadata": {},
     "output_type": "execute_result"
    }
   ],
   "source": [
    "model.predict(X_test)"
   ]
  },
  {
   "cell_type": "code",
   "execution_count": 21,
   "id": "2a5cf1d3",
   "metadata": {},
   "outputs": [
    {
     "name": "stdout",
     "output_type": "stream",
     "text": [
      "WARNING:tensorflow:From <ipython-input-21-bc459dba29cd>:1: Sequential.predict_classes (from tensorflow.python.keras.engine.sequential) is deprecated and will be removed after 2021-01-01.\n",
      "Instructions for updating:\n",
      "Please use instead:* `np.argmax(model.predict(x), axis=-1)`,   if your model does multi-class classification   (e.g. if it uses a `softmax` last-layer activation).* `(model.predict(x) > 0.5).astype(\"int32\")`,   if your model does binary classification   (e.g. if it uses a `sigmoid` last-layer activation).\n"
     ]
    },
    {
     "data": {
      "text/plain": [
       "array([7, 2, 1, ..., 4, 5, 6], dtype=int64)"
      ]
     },
     "execution_count": 21,
     "metadata": {},
     "output_type": "execute_result"
    }
   ],
   "source": [
    "model.predict_classes(X_test)"
   ]
  },
  {
   "cell_type": "code",
   "execution_count": 22,
   "id": "e2aff84c",
   "metadata": {},
   "outputs": [
    {
     "data": {
      "text/plain": [
       "<matplotlib.image.AxesImage at 0x1f02e8b9370>"
      ]
     },
     "execution_count": 22,
     "metadata": {},
     "output_type": "execute_result"
    },
    {
     "data": {
      "image/png": "[encoded data removed]",
      "text/plain": [
       "<Figure size 432x288 with 1 Axes>"
      ]
     },
     "metadata": {
      "needs_background": "light"
     },
     "output_type": "display_data"
    }
   ],
   "source": [
    "plt.imshow(X_test[0])"
   ]
  },
  {
   "cell_type": "code",
   "execution_count": 23,
   "id": "e8e62706",
   "metadata": {},
   "outputs": [
    {
     "data": {
      "text/plain": [
       "<matplotlib.image.AxesImage at 0x1f02e7bf790>"
      ]
     },
     "execution_count": 23,
     "metadata": {},
     "output_type": "execute_result"
    },
    {
     "data": {
      "image/png": "[encoded data removed]",
      "text/plain": [
       "<Figure size 432x288 with 1 Axes>"
      ]
     },
     "metadata": {
      "needs_background": "light"
     },
     "output_type": "display_data"
    }
   ],
   "source": [
    "plt.imshow(X_test[1])"
   ]
  },
  {
   "cell_type": "code",
   "execution_count": 24,
   "id": "5a860368",
   "metadata": {},
   "outputs": [
    {
     "data": {
      "text/plain": [
       "<matplotlib.image.AxesImage at 0x1f02e930b50>"
      ]
     },
     "execution_count": 24,
     "metadata": {},
     "output_type": "execute_result"
    },
    {
     "data": {
      "image/png": "[encoded data removed]",
      "text/plain": [
       "<Figure size 432x288 with 1 Axes>"
      ]
     },
     "metadata": {
      "needs_background": "light"
     },
     "output_type": "display_data"
    }
   ],
   "source": [
    "plt.imshow(X_test[2])"
   ]
  },
  {
   "cell_type": "code",
   "execution_count": 25,
   "id": "b67c3c5b",
   "metadata": {},
   "outputs": [
    {
     "data": {
      "text/plain": [
       "[<matplotlib.lines.Line2D at 0x1f02e98f070>]"
      ]
     },
     "execution_count": 25,
     "metadata": {},
     "output_type": "execute_result"
    },
    {
     "data": {
      "image/png": "[encoded data removed]",
      "text/plain": [
       "<Figure size 432x288 with 1 Axes>"
      ]
     },
     "metadata": {
      "needs_background": "light"
     },
     "output_type": "display_data"
    }
   ],
   "source": [
    "plt.plot(history.history['loss'])\n",
    "plt.plot(history.history['val_loss'])"
   ]
  },
  {
   "cell_type": "code",
   "execution_count": 26,
   "id": "746eaccc",
   "metadata": {},
   "outputs": [
    {
     "data": {
      "text/plain": [
       "[<matplotlib.lines.Line2D at 0x1f02e9e39d0>]"
      ]
     },
     "execution_count": 26,
     "metadata": {},
     "output_type": "execute_result"
    },
    {
     "data": {
      "image/png": "[encoded data removed]",
      "text/plain": [
       "<Figure size 432x288 with 1 Axes>"
      ]
     },
     "metadata": {
      "needs_background": "light"
     },
     "output_type": "display_data"
    }
   ],
   "source": [
    "plt.plot(history.history['accuracy'])\n",
    "plt.plot(history.history['val_accuracy'])"
   ]
  },
  {
   "cell_type": "markdown",
   "id": "c91858f1",
   "metadata": {},
   "source": [
    "### Create GUI to predict digits"
   ]
  },
  {
   "cell_type": "code",
   "execution_count": null,
   "id": "163cf333",
   "metadata": {},
   "outputs": [],
   "source": [
    "from keras.models import load_model\n",
    "from tkinter import *\n",
    "import tkinter as tk\n",
    "import win32gui\n",
    "from PIL import ImageGrab, Image\n",
    "import numpy as np\n",
    "model = load_model('mnist.h5')\n",
    "def predict_digit(img):\n",
    "    #resize image to 28x28 pixels\n",
    "    img = img.resize((28,28))\n",
    "    #convert rgb to grayscale\n",
    "    img = img.convert('L')\n",
    "    img = np.array(img)\n",
    "    #reshaping to support our model input and normalizing\n",
    "    img = img.reshape(1,28,28,1)\n",
    "    img = img/255.0\n",
    "    #predicting the class\n",
    "    res = model.predict([img])[0]\n",
    "    return np.argmax(res), max(res)\n",
    "class App(tk.Tk):\n",
    "    def __init__(self):\n",
    "        tk.Tk.__init__(self)\n",
    "        self.x = self.y = 0\n",
    "        # Creating elements\n",
    "        self.canvas = tk.Canvas(self, width=300, height=300, bg = \"white\", cursor=\"cross\")\n",
    "        self.label = tk.Label(self, text=\"Thinking..\", font=(\"Helvetica\", 48))\n",
    "        self.classify_btn = tk.Button(self, text = \"Recognise\", command = self.classify_handwriting) \n",
    "        self.button_clear = tk.Button(self, text = \"Clear\", command = self.clear_all)\n",
    "        # Grid structure\n",
    "        self.canvas.grid(row=0, column=0, pady=2, sticky=W, )\n",
    "        self.label.grid(row=0, column=1,pady=2, padx=2)\n",
    "        self.classify_btn.grid(row=1, column=1, pady=2, padx=2)\n",
    "        self.button_clear.grid(row=1, column=0, pady=2)\n",
    "        #self.canvas.bind(\"<Motion>\", self.start_pos)\n",
    "        self.canvas.bind(\"<B1-Motion>\", self.draw_lines)\n",
    "    def clear_all(self):\n",
    "        self.canvas.delete(\"all\")\n",
    "    def classify_handwriting(self):\n",
    "        HWND = self.canvas.winfo_id() # get the handle of the canvas\n",
    "        rect = win32gui.GetWindowRect(HWND) # get the coordinate of the canvas\n",
    "        im = ImageGrab.grab(rect)\n",
    "        digit, acc = predict_digit(im)\n",
    "        self.label.configure(text= str(digit)+', '+ str(int(acc*100))+'%')\n",
    "    def draw_lines(self, event):\n",
    "        self.x = event.x\n",
    "        self.y = event.y\n",
    "        r=8\n",
    "        self.canvas.create_oval(self.x-r, self.y-r, self.x + r, self.y + r, fill='black')\n",
    "app = App()\n",
    "mainloop()"
   ]
  },
  {
   "cell_type": "code",
   "execution_count": null,
   "id": "27c4eabc",
   "metadata": {},
   "outputs": [],
   "source": []
  }
 ],
 "metadata": {
  "kernelspec": {
   "display_name": "Python 3",
   "language": "python",
   "name": "python3"
  },
  "language_info": {
   "codemirror_mode": {
    "name": "ipython",
    "version": 3
   },
   "file_extension": ".py",
   "mimetype": "text/x-python",
   "name": "python",
   "nbconvert_exporter": "python",
   "pygments_lexer": "ipython3",
   "version": "3.8.8"
  }
 },
 "nbformat": 4,
 "nbformat_minor": 5
}
